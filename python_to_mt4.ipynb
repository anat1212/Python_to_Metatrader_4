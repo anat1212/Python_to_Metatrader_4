{
 "cells": [
  {
   "cell_type": "code",
   "execution_count": null,
   "id": "1ce8f656-33c0-4e4f-ac34-b3c9b88761da",
   "metadata": {},
   "outputs": [],
   "source": [
    "# create a socket object\n",
    "import socket\n",
    "import time\n",
    "import schedule\n",
    "s = socket.socket(socket.AF_INET, socket.SOCK_STREAM)\n",
    "\n",
    "# get local machine name\n",
    "host = 'localhost'\n",
    "\n",
    "# set port number\n",
    "port = 8066\n",
    "\n",
    "# connect to the server\n",
    "s.connect((host, port))\n",
    "\n",
    "def my_job():\n",
    "    str = \"quote\"\n",
    "    s.send(str.encode());\n",
    "    print(\"Received:\", s.recv(1024).decode())"
   ]
  },
  {
   "cell_type": "code",
   "execution_count": null,
   "id": "147b428f-0317-4454-b58b-348a5747aed4",
   "metadata": {},
   "outputs": [],
   "source": [
    "schedule.every().minute.at(\":03\").do(my_job)"
   ]
  },
  {
   "cell_type": "code",
   "execution_count": null,
   "id": "22a395a8-7cf7-43a8-9107-15ae9b6fc81e",
   "metadata": {},
   "outputs": [],
   "source": [
    "while True:\n",
    "    schedule.run_pending()\n",
    "\n",
    "\n",
    "# close the connection\n",
    "s.close()"
   ]
  }
 ],
 "metadata": {
  "kernelspec": {
   "display_name": "Python 3 (ipykernel)",
   "language": "python",
   "name": "python3"
  },
  "language_info": {
   "codemirror_mode": {
    "name": "ipython",
    "version": 3
   },
   "file_extension": ".py",
   "mimetype": "text/x-python",
   "name": "python",
   "nbconvert_exporter": "python",
   "pygments_lexer": "ipython3",
   "version": "3.8.17"
  }
 },
 "nbformat": 4,
 "nbformat_minor": 5
}
