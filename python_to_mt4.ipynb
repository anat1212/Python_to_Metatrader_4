# create a socket object
import socket
import time
import schedule
s = socket.socket(socket.AF_INET, socket.SOCK_STREAM)

# get local machine name
host = 'localhost'

# set port number
port = 8066

# connect to the server
s.connect((host, port))

def my_job():
    str = "quote"
    s.send(str.encode());
    print("Received:", s.recv(1024).decode())

schedule.every().minute.at(":03").do(my_job)

while True:
    schedule.run_pending()


# close the connection
s.close()
